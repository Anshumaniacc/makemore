{
 "cells": [
  {
   "cell_type": "code",
   "execution_count": 1,
   "id": "3bf47d05-3d8a-47c5-b923-4b87b69cb70a",
   "metadata": {},
   "outputs": [],
   "source": [
    "\n",
    "import torch\n",
    "import torch.nn.functional as F\n",
    "import matplotlib.pyplot as plt # for making figures\n",
    "%matplotlib inline"
   ]
  },
  {
   "cell_type": "code",
   "execution_count": 2,
   "id": "6924a95e-5b1e-4e7b-aaa2-35fcfd3066f6",
   "metadata": {},
   "outputs": [
    {
     "data": {
      "text/plain": [
       "['emma', 'olivia', 'ava', 'isabella', 'sophia', 'charlotte', 'mia', 'amelia']"
      ]
     },
     "execution_count": 2,
     "metadata": {},
     "output_type": "execute_result"
    }
   ],
   "source": [
    "# read in all the words\n",
    "words = open('names.txt', 'r').read().splitlines()\n",
    "words[:8]"
   ]
  },
  {
   "cell_type": "code",
   "execution_count": null,
   "id": "889f1854-f883-48e5-8b65-af2a812c35c9",
   "metadata": {},
   "outputs": [
    {
     "data": {
      "text/plain": [
       "32033"
      ]
     },
     "execution_count": 3,
     "metadata": {},
     "output_type": "execute_result"
    }
   ],
   "source": [
    "len(words)\n",
    "# length"
   ]
  },
  {
   "cell_type": "code",
   "execution_count": 4,
   "id": "855bfb45-cfe9-412c-b1c5-5a9b8f7055cc",
   "metadata": {},
   "outputs": [
    {
     "name": "stdout",
     "output_type": "stream",
     "text": [
      "{1: 'a', 2: 'b', 3: 'c', 4: 'd', 5: 'e', 6: 'f', 7: 'g', 8: 'h', 9: 'i', 10: 'j', 11: 'k', 12: 'l', 13: 'm', 14: 'n', 15: 'o', 16: 'p', 17: 'q', 18: 'r', 19: 's', 20: 't', 21: 'u', 22: 'v', 23: 'w', 24: 'x', 25: 'y', 26: 'z', 0: '.'}\n"
     ]
    }
   ],
   "source": [
    "# build the vocabulary of characters and mappings to/from integers\n",
    "chars = sorted(list(set(''.join(words))))\n",
    "stoi = {s:i+1 for i,s in enumerate(chars)}\n",
    "stoi['.'] = 0\n",
    "itos = {i:s for s,i in stoi.items()}\n",
    "print(itos)"
   ]
  },
  {
   "cell_type": "code",
   "execution_count": 25,
   "id": "6e8293e3-f0d5-4515-b8a1-7c2381580d29",
   "metadata": {},
   "outputs": [],
   "source": [
    "\n",
    "# build the dataset\n",
    "\n",
    "block_size = 3 # context length: how many characters do we take to predict the next one?\n",
    "X, Y = [], []\n",
    "for w in words:\n",
    "  \n",
    "  #print(w)\n",
    "  context = [0] * block_size\n",
    "  for ch in w + '.':\n",
    "    ix = stoi[ch]\n",
    "    X.append(context)\n",
    "    Y.append(ix)\n",
    "    # print(''.join(itos[i] for i in context))\n",
    "    context = context[1:] + [ix] # crop and append\n",
    "  \n",
    "X = torch.tensor(X)\n",
    "Y = torch.tensor(Y)"
   ]
  },
  {
   "cell_type": "code",
   "execution_count": 26,
   "id": "c681f6a5-0728-43ee-bda6-97bd6573f24a",
   "metadata": {},
   "outputs": [
    {
     "data": {
      "text/plain": [
       "(torch.Size([228146, 3]), torch.int64, torch.Size([228146]), torch.int64)"
      ]
     },
     "execution_count": 26,
     "metadata": {},
     "output_type": "execute_result"
    }
   ],
   "source": [
    "X.shape, X.dtype, Y.shape, Y.dtype"
   ]
  },
  {
   "cell_type": "code",
   "execution_count": 27,
   "id": "843422eb-1de0-450e-b9a1-08b910df110f",
   "metadata": {},
   "outputs": [
    {
     "data": {
      "text/plain": [
       "tensor([[-0.4181,  1.1383],\n",
       "        [ 0.7675,  0.6311],\n",
       "        [ 0.5176, -0.4139],\n",
       "        [ 0.7482,  0.3412],\n",
       "        [-0.1669, -0.8649],\n",
       "        [-1.3747,  0.0339],\n",
       "        [ 0.0947,  0.2422],\n",
       "        [-0.6214, -0.5384],\n",
       "        [-0.4685,  0.3814],\n",
       "        [ 1.4807, -2.0939],\n",
       "        [-2.0466,  0.6944],\n",
       "        [ 0.0342, -0.9875],\n",
       "        [ 0.5904,  0.1860],\n",
       "        [ 0.9933,  0.9492],\n",
       "        [-1.1308, -0.4953],\n",
       "        [-1.0409, -0.0038],\n",
       "        [ 0.5158,  0.1035],\n",
       "        [ 1.0539,  0.6157],\n",
       "        [ 0.4197,  0.4002],\n",
       "        [-0.8637, -0.9959],\n",
       "        [-0.1551, -0.6504],\n",
       "        [-0.8949,  1.8423],\n",
       "        [ 1.5253, -1.0903],\n",
       "        [ 1.2571, -1.1754],\n",
       "        [ 0.3933,  1.2123],\n",
       "        [ 0.9384,  0.4862],\n",
       "        [-1.2080,  0.2520]])"
      ]
     },
     "execution_count": 27,
     "metadata": {},
     "output_type": "execute_result"
    }
   ],
   "source": [
    "C = torch.randn((27, 2))\n",
    "C"
   ]
  },
  {
   "cell_type": "code",
   "execution_count": 19,
   "id": "637df2de-40ad-46d8-93c3-d3541f1717d1",
   "metadata": {},
   "outputs": [
    {
     "data": {
      "text/plain": [
       "tensor(0.7604)"
      ]
     },
     "execution_count": 19,
     "metadata": {},
     "output_type": "execute_result"
    }
   ],
   "source": [
    "C[2,1]"
   ]
  },
  {
   "cell_type": "code",
   "execution_count": null,
   "id": "85d73eaa-cf71-42f0-8e5d-007baa159452",
   "metadata": {},
   "outputs": [],
   "source": []
  },
  {
   "cell_type": "code",
   "execution_count": null,
   "id": "374fa4c3-fad4-439e-bb03-fb3970fd626b",
   "metadata": {},
   "outputs": [],
   "source": []
  }
 ],
 "metadata": {
  "kernelspec": {
   "display_name": "Python 3 (ipykernel)",
   "language": "python",
   "name": "python3"
  },
  "language_info": {
   "codemirror_mode": {
    "name": "ipython",
    "version": 3
   },
   "file_extension": ".py",
   "mimetype": "text/x-python",
   "name": "python",
   "nbconvert_exporter": "python",
   "pygments_lexer": "ipython3",
   "version": "3.12.3"
  }
 },
 "nbformat": 4,
 "nbformat_minor": 5
}
